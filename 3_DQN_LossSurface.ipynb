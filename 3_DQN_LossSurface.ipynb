{
  "nbformat": 4,
  "nbformat_minor": 0,
  "metadata": {
    "colab": {
      "name": "DQN.ipynb",
      "provenance": [],
      "collapsed_sections": []
    },
    "kernelspec": {
      "name": "python3",
      "display_name": "Python 3"
    }
  },
  "cells": [
    {
      "cell_type": "code",
      "metadata": {
        "id": "oCHyUi5JqM_6",
        "colab_type": "code",
        "colab": {}
      },
      "source": [
        "%mkdir save_model\n",
        "%mkdir save_graph"
      ],
      "execution_count": 0,
      "outputs": []
    },
    {
      "cell_type": "markdown",
      "metadata": {
        "id": "tVYU5m3RuCqM",
        "colab_type": "text"
      },
      "source": [
        "파이썬과 케라스로 배우는 강화학습 [코드](https://github.com/rlcode/reinforcement-learning-kr-v2)를 참고하였습니다. "
      ]
    },
    {
      "cell_type": "markdown",
      "metadata": {
        "id": "gwd9IyiKuSmb",
        "colab_type": "text"
      },
      "source": [
        "### 1. 라이브러리 임폴트 "
      ]
    },
    {
      "cell_type": "code",
      "metadata": {
        "id": "SiWy6v7zuT47",
        "colab_type": "code",
        "colab": {}
      },
      "source": [
        "import os\n",
        "import sys\n",
        "import gym\n",
        "import pylab\n",
        "import random\n",
        "import numpy as np\n",
        "from matplotlib import cm\n",
        "import matplotlib.pyplot as plt\n",
        "from mpl_toolkits.mplot3d import Axes3D\n",
        "from collections import deque\n",
        "import tensorflow as tf\n",
        "from tensorflow.keras.layers import Dense\n",
        "from tensorflow.keras.optimizers import Adam\n",
        "from tensorflow.keras.initializers import RandomUniform"
      ],
      "execution_count": 0,
      "outputs": []
    },
    {
      "cell_type": "markdown",
      "metadata": {
        "id": "S0A_m9YiuWli",
        "colab_type": "text"
      },
      "source": [
        "\n",
        "### 2. DQN 모델 정의 "
      ]
    },
    {
      "cell_type": "code",
      "metadata": {
        "id": "IFarqbqqjMDH",
        "colab_type": "code",
        "colab": {}
      },
      "source": [
        "# 상태가 입력, 큐함수가 출력인 인공신경망 생성\n",
        "class DQN(tf.keras.Model):\n",
        "    def __init__(self, action_size):\n",
        "        super(DQN, self).__init__()\n",
        "        self.fc1 = Dense(24, activation='relu')\n",
        "        self.fc2 = Dense(24, activation='relu')\n",
        "        self.fc_out = Dense(action_size,\n",
        "                            kernel_initializer=RandomUniform(-1e-3, 1e-3))\n",
        "\n",
        "    def call(self, x):\n",
        "        x = self.fc1(x)\n",
        "        x = self.fc2(x)\n",
        "        q = self.fc_out(x)\n",
        "        return q\n",
        "\n",
        "\n",
        "# 카트폴 예제에서의 DQN 에이전트\n",
        "class DQNAgent:\n",
        "    def __init__(self, state_size, action_size):\n",
        "        self.render = False\n",
        "\n",
        "        # 상태와 행동의 크기 정의\n",
        "        self.state_size = state_size\n",
        "        self.action_size = action_size\n",
        "\n",
        "        # DQN 하이퍼파라미터\n",
        "        self.discount_factor = 0.99\n",
        "        self.learning_rate = 0.001\n",
        "        self.epsilon = 1.0\n",
        "        self.epsilon_decay = 0.999\n",
        "        self.epsilon_min = 0.01\n",
        "        self.batch_size = 64\n",
        "        self.train_start = 1000\n",
        "\n",
        "        # 리플레이 메모리, 최대 크기 2000\n",
        "        self.memory = deque(maxlen=2000)\n",
        "\n",
        "        # 모델과 타깃 모델 생성\n",
        "        self.model = DQN(action_size)\n",
        "        self.target_model = DQN(action_size)\n",
        "        self.optimizer = Adam(lr=self.learning_rate)\n",
        "\n",
        "        # 타깃 모델 초기화\n",
        "        self.update_target_model()\n",
        "\n",
        "    # 타깃 모델을 모델의 가중치로 업데이트\n",
        "    def update_target_model(self):\n",
        "        self.target_model.set_weights(self.model.get_weights())\n",
        "\n",
        "    # 입실론 탐욕 정책으로 행동 선택\n",
        "    def get_action(self, state):\n",
        "        if np.random.rand() <= self.epsilon:\n",
        "            return random.randrange(self.action_size)\n",
        "        else:\n",
        "            q_value = self.model(state)\n",
        "            return np.argmax(q_value[0])\n",
        "\n",
        "    # 샘플 <s, a, r, s'>을 리플레이 메모리에 저장\n",
        "    def append_sample(self, state, action, reward, next_state, done):\n",
        "        self.memory.append((state, action, reward, next_state, done))\n",
        "\n",
        "    # 리플레이 메모리에서 무작위로 추출한 배치로 모델 학습\n",
        "    def train_model(self):\n",
        "        if self.epsilon > self.epsilon_min:\n",
        "            self.epsilon *= self.epsilon_decay\n",
        "\n",
        "        # 메모리에서 배치 크기만큼 무작위로 샘플 추출\n",
        "        mini_batch = random.sample(self.memory, self.batch_size)\n",
        "\n",
        "        states = np.array([sample[0][0] for sample in mini_batch])\n",
        "        actions = np.array([sample[1] for sample in mini_batch])\n",
        "        rewards = np.array([sample[2] for sample in mini_batch])\n",
        "        next_states = np.array([sample[3][0] for sample in mini_batch])\n",
        "        dones = np.array([sample[4] for sample in mini_batch])\n",
        "\n",
        "        # 학습 파라메터\n",
        "        model_params = self.model.trainable_variables\n",
        "        with tf.GradientTape() as tape:\n",
        "            # 현재 상태에 대한 모델의 큐함수\n",
        "            predicts = self.model(states)\n",
        "            one_hot_action = tf.one_hot(actions, self.action_size)\n",
        "            predicts = tf.reduce_sum(one_hot_action * predicts, axis=1)\n",
        "\n",
        "            # 다음 상태에 대한 타깃 모델의 큐함수\n",
        "            target_predicts = self.target_model(next_states)\n",
        "            target_predicts = tf.stop_gradient(target_predicts)\n",
        "\n",
        "            # 벨만 최적 방정식을 이용한 업데이트 타깃\n",
        "            max_q = np.amax(target_predicts, axis=-1)\n",
        "            targets = rewards + (1 - dones) * self.discount_factor * max_q\n",
        "            loss = tf.reduce_mean(tf.square(targets - predicts))\n",
        "\n",
        "        # 오류함수를 줄이는 방향으로 모델 업데이트\n",
        "        grads = tape.gradient(loss, model_params)\n",
        "        self.optimizer.apply_gradients(zip(grads, model_params))\n",
        "\n",
        "    def test_model(self):\n",
        "        if self.epsilon > self.epsilon_min:\n",
        "            self.epsilon *= self.epsilon_decay\n",
        "\n",
        "        # 메모리에서 배치 크기만큼 무작위로 샘플 추출\n",
        "        mini_batch = random.sample(self.memory, self.batch_size)\n",
        "\n",
        "        states = np.array([sample[0][0] for sample in mini_batch])\n",
        "        actions = np.array([sample[1] for sample in mini_batch])\n",
        "        rewards = np.array([sample[2] for sample in mini_batch])\n",
        "        next_states = np.array([sample[3][0] for sample in mini_batch])\n",
        "        dones = np.array([sample[4] for sample in mini_batch])\n",
        "\n",
        "        # 학습 파라메터\n",
        "        model_params = self.model.trainable_variables\n",
        "        with tf.GradientTape() as tape:\n",
        "            # 현재 상태에 대한 모델의 큐함수\n",
        "            predicts = self.model(states)\n",
        "            one_hot_action = tf.one_hot(actions, self.action_size)\n",
        "            predicts = tf.reduce_sum(one_hot_action * predicts, axis=1)\n",
        "\n",
        "            # 다음 상태에 대한 타깃 모델의 큐함수\n",
        "            target_predicts = self.target_model(next_states)\n",
        "            target_predicts = tf.stop_gradient(target_predicts)\n",
        "\n",
        "            # 벨만 최적 방정식을 이용한 업데이트 타깃\n",
        "            max_q = np.amax(target_predicts, axis=-1)\n",
        "            targets = rewards + (1 - dones) * self.discount_factor * max_q\n",
        "            loss = tf.reduce_mean(tf.square(targets - predicts))\n",
        "\n",
        "        return loss\n",
        "\n",
        "\n"
      ],
      "execution_count": 0,
      "outputs": []
    },
    {
      "cell_type": "markdown",
      "metadata": {
        "id": "eXjCURl2ui5S",
        "colab_type": "text"
      },
      "source": [
        "### 3. DQN 모델 학습"
      ]
    },
    {
      "cell_type": "code",
      "metadata": {
        "id": "Uo1RdYuIuh8M",
        "colab_type": "code",
        "colab": {}
      },
      "source": [
        "if __name__ == \"__main__\":\n",
        "    # CartPole-v1 환경, 최대 타임스텝 수가 500\n",
        "    env = gym.make('CartPole-v1')\n",
        "    state_size = env.observation_space.shape[0]\n",
        "    action_size = env.action_space.n\n",
        "\n",
        "    # DQN 에이전트 생성\n",
        "    agent = DQNAgent(state_size, action_size)\n",
        "\n",
        "    scores, episodes = [], []\n",
        "    score_avg = 0\n",
        "\n",
        "    num_episode = 300\n",
        "    for e in range(num_episode):\n",
        "        done = False\n",
        "        score = 0\n",
        "        # env 초기화\n",
        "        state = env.reset()\n",
        "        state = np.reshape(state, [1, state_size])\n",
        "\n",
        "        while not done:\n",
        "            if agent.render:\n",
        "                env.render()\n",
        "\n",
        "            # 현재 상태로 행동을 선택\n",
        "            action = agent.get_action(state)\n",
        "            # 선택한 행동으로 환경에서 한 타임스텝 진행\n",
        "            next_state, reward, done, info = env.step(action)\n",
        "            next_state = np.reshape(next_state, [1, state_size])\n",
        "\n",
        "            # 타임스텝마다 보상 0.1, 에피소드가 중간에 끝나면 -1 보상\n",
        "            score += reward\n",
        "            reward = 0.1 if not done or score == 500 else -1\n",
        "\n",
        "            # 리플레이 메모리에 샘플 <s, a, r, s'> 저장\n",
        "            agent.append_sample(state, action, reward, next_state, done)\n",
        "            # 매 타임스텝마다 학습\n",
        "            if len(agent.memory) >= agent.train_start:\n",
        "                agent.train_model()\n",
        "\n",
        "            state = next_state\n",
        "\n",
        "            if done:\n",
        "                # 각 에피소드마다 타깃 모델을 모델의 가중치로 업데이트\n",
        "                agent.update_target_model()\n",
        "                # 에피소드마다 학습 결과 출력\n",
        "                score_avg = 0.9 * score_avg + 0.1 * score if score_avg != 0 else score\n",
        "                print(\"episode: {:3d} | score avg: {:3.2f} | memory length: {:4d} | epsilon: {:.4f}\".format(\n",
        "                      e, score_avg, len(agent.memory), agent.epsilon))\n",
        "\n",
        "                # 에피소드마다 학습 결과 그래프로 저장\n",
        "                scores.append(score_avg)\n",
        "                episodes.append(e)\n",
        "                pylab.plot(episodes, scores, 'b')\n",
        "                pylab.xlabel(\"episode\")\n",
        "                pylab.ylabel(\"average score\")\n",
        "                pylab.savefig(\"./save_graph/graph.png\")\n",
        "\n",
        "                # 이동 평균이 400 이상일 때 종료\n",
        "                if score_avg > 400:\n",
        "                    agent.model.save_weights(\"./save_model/model\", save_format=\"tf\")\n",
        "                    sys.exit()"
      ],
      "execution_count": 0,
      "outputs": []
    },
    {
      "cell_type": "markdown",
      "metadata": {
        "id": "HmAI7p5GuqAs",
        "colab_type": "text"
      },
      "source": [
        "### 4. LossSurface"
      ]
    },
    {
      "cell_type": "code",
      "metadata": {
        "id": "p9JGUDPFfgZT",
        "colab_type": "code",
        "colab": {}
      },
      "source": [
        "def loss_surface(agent, alpha, beta):\n",
        "         \n",
        "    np.random.seed(0)\n",
        "    ## 1. Checkpoint 에 훈련을 마친 Weights 를 모델에 로드하기 \n",
        "    checkpoint_path = \"./save_model/model\"\n",
        "    agent.model.load_weights(checkpoint_path)\n",
        "\n",
        "    ## 2. 0~5 개의 가중치를 불러옴. \n",
        "    w0 = agent.model.get_weights()[0] + alpha * np.random.randn(agent.model.get_weights()[0].shape[0], agent.model.get_weights()[0].shape[1]) + beta * np.random.randn(agent.model.get_weights()[0].shape[0],agent.model.get_weights()[0].shape[1])\n",
        "    w1 = agent.model.get_weights()[1] +  alpha * np.random.randn(agent.model.get_weights()[1].shape[0],)\n",
        "    w2 = agent.model.get_weights()[2] + alpha * np.random.randn(agent.model.get_weights()[2].shape[0], agent.model.get_weights()[2].shape[1]) + beta * np.random.randn(agent.model.get_weights()[2].shape[0],agent.model.get_weights()[2].shape[1])\n",
        "    w3 = agent.model.get_weights()[3] +  alpha * np.random.randn(agent.model.get_weights()[3].shape[0],)\n",
        "    w4 = agent.model.get_weights()[4] + alpha * np.random.randn(agent.model.get_weights()[4].shape[0], agent.model.get_weights()[4].shape[1]) + beta * np.random.randn(agent.model.get_weights()[4].shape[0],agent.model.get_weights()[4].shape[1])\n",
        "    w5 = agent.model.get_weights()[5] +  alpha * np.random.randn(agent.model.get_weights()[5].shape[0],) + beta * np.random.randn(agent.model.get_weights()[5].shape[0],)\n",
        "\n",
        "    agent.model.set_weights([w0,w1,w2,w3,w4,w5])\n",
        "        \n",
        "    return agent.test_model().numpy() # Loss 를 반환함."
      ],
      "execution_count": 0,
      "outputs": []
    },
    {
      "cell_type": "code",
      "metadata": {
        "id": "3dd9bbRCphlP",
        "colab_type": "code",
        "outputId": "6c389d65-7069-48d5-a2ee-dafd489219b4",
        "colab": {
          "base_uri": "https://localhost:8080/",
          "height": 248
        }
      },
      "source": [
        "ms = np.linspace(-1.0, 1.0, 10)\n",
        "bs = np.linspace(-1.0, 1.0, 10)\n",
        "\n",
        "M, B = np.meshgrid(ms, bs)\n",
        "\n",
        "zs = np.array([loss_surface(agent, alpha, beta) for alpha, beta in zip(np.ravel(M), np.ravel(B))])\n",
        "Z = zs.reshape(M.shape)\n",
        "\n",
        "fig = plt.figure()\n",
        "ax = fig.add_subplot(111, projection='3d')\n",
        "surf = ax.plot_surface(M, B, Z, rstride=1, cstride=1, cmap=cm.coolwarm, alpha=0.5)\n",
        "\n",
        "# ax.set_xlabel('m')\n",
        "# ax.set_ylabel('b')\n",
        "# ax.set_zlabel('error')\n",
        "# Add a color bar which maps values to colors.\n",
        "fig.colorbar(surf, shrink=0.5, aspect=5)\n",
        "plt.show()"
      ],
      "execution_count": 0,
      "outputs": [
        {
          "output_type": "display_data",
          "data": {
            "image/png": "[encoded data removed]",
            "text/plain": [
              "<Figure size 432x288 with 2 Axes>"
            ]
          },
          "metadata": {
            "tags": [],
            "needs_background": "light"
          }
        }
      ]
    }
  ]
}